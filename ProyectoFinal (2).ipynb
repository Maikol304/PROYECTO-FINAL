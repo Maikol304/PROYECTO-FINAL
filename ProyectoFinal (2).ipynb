{
  "metadata": {
    "kernelspec": {
      "name": "python",
      "display_name": "Python (Pyodide)",
      "language": "python"
    },
    "language_info": {
      "codemirror_mode": {
        "name": "python",
        "version": 3
      },
      "file_extension": ".py",
      "mimetype": "text/x-python",
      "name": "python",
      "nbconvert_exporter": "python",
      "pygments_lexer": "ipython3",
      "version": "3.8"
    }
  },
  "nbformat_minor": 5,
  "nbformat": 4,
  "cells": [
    {
      "id": "4fb9cdea-4d15-4b90-9a1f-9ce0df0511df",
      "cell_type": "raw",
      "source": "# Proyecto Final - Ciencia de Datos\n",
      "metadata": {}
    },
    {
      "id": "1eb39dbf-6e7f-4ea0-ba37-11dc6ff91f23",
      "cell_type": "markdown",
      "source": "# Proyecto Final - Ciencia de Datos\n",
      "metadata": {}
    },
    {
      "id": "071e6718-5baa-4b87-b275-d51044ac5a75",
      "cell_type": "raw",
      "source": "## Introducción\nEste cuaderno presenta una visión general de los lenguajes, bibliotecas y herramientas comunes utilizadas en Ciencia de Datos. También incluye ejemplos básicos de expresiones aritméticas y operaciones en Python.\n",
      "metadata": {}
    },
    {
      "id": "26e56bef-9267-4a82-8532-b9fe2ed32f77",
      "cell_type": "markdown",
      "source": "## Introducción\nEste cuaderno presenta una visión general de los lenguajes, bibliotecas y herramientas comunes utilizadas en Ciencia de Datos. También incluye ejemplos básicos de expresiones aritméticas y operaciones en Python.\n",
      "metadata": {}
    },
    {
      "id": "6478efbb-389d-4039-a13e-b0e0a97eabcf",
      "cell_type": "raw",
      "source": "## Lenguajes de Ciencia de Datos\n- Python\n- R\n- SQL\n- Scala\n- Julia\n",
      "metadata": {}
    },
    {
      "id": "ad868d89-5056-4db0-913f-4ae91f282114",
      "cell_type": "markdown",
      "source": "## Lenguajes de Ciencia de Datos\n- Python\n- R\n- SQL\n- Scala\n- Julia\n",
      "metadata": {}
    },
    {
      "id": "2deab758-7781-4cb8-8452-da3bb7b45888",
      "cell_type": "raw",
      "source": "## Bibliotecas de Ciencia de Datos\n- NumPy\n- Pandas\n- Matplotlib\n- Seaborn\n- Scikit-learn\n- TensorFlow\n",
      "metadata": {}
    },
    {
      "id": "26848e03-5edf-4c8e-ba48-a2bf58ffee10",
      "cell_type": "markdown",
      "source": "## Bibliotecas de Ciencia de Datos\n- NumPy\n- Pandas\n- Matplotlib\n- Seaborn\n- Scikit-learn\n- TensorFlow\n",
      "metadata": {}
    },
    {
      "id": "347132fb-0454-4381-bfc2-0bb28d939201",
      "cell_type": "raw",
      "source": "## Herramientas de Ciencia de Datos\n\n| Herramienta      | Descripción                         |\n|------------------|-------------------------------------|\n| Jupyter Notebook | Entorno interactivo para codificación y visualización |\n| RStudio          | Entorno para análisis estadístico con R |\n| GitHub           | Plataforma de control de versiones  |\n| Watson Studio    | Plataforma de ciencia de datos en la nube de IBM |\n",
      "metadata": {}
    },
    {
      "id": "c1df182d-753f-445b-b2c2-e9fb94a2b386",
      "cell_type": "markdown",
      "source": "## Herramientas de Ciencia de Datos\n\n| Herramienta      | Descripción                         |\n|------------------|-------------------------------------|\n| Jupyter Notebook | Entorno interactivo para codificación y visualización |\n| RStudio          | Entorno para análisis estadístico con R |\n| GitHub           | Plataforma de control de versiones  |\n| Watson Studio    | Plataforma de ciencia de datos en la nube de IBM |\n",
      "metadata": {}
    },
    {
      "id": "9b082c26-9f0c-4713-a6d9-43d017de0730",
      "cell_type": "raw",
      "source": "## Ejemplos de expresiones aritméticas\nEjemplos básicos:\n- Suma: `2 + 3`\n- Multiplicación: `4 * 5`\n- División: `10 / 2`\n- Exponente: `2 ** 3`\n",
      "metadata": {}
    },
    {
      "id": "d8ba5b81-e8ca-4522-a83b-ac4ebe4780cc",
      "cell_type": "markdown",
      "source": "## Ejemplos de expresiones aritméticas\nEjemplos básicos:\n- Suma: `2 + 3`\n- Multiplicación: `4 * 5`\n- División: `10 / 2`\n- Exponente: `2 ** 3`\n",
      "metadata": {}
    },
    {
      "id": "8ad7f76b-62a3-479b-8927-36d3c9234303",
      "cell_type": "code",
      "source": "# Multiplicación y suma de números\nmultiplicacion = 5 * 3\nsuma = 10 + 7\nprint(\"Resultado de la multiplicación:\", multiplicacion)\nprint(\"Resultado de la suma:\", suma)\n",
      "metadata": {
        "trusted": true
      },
      "outputs": [
        {
          "name": "stdout",
          "output_type": "stream",
          "text": "Resultado de la multiplicación: 15\nResultado de la suma: 17\n"
        }
      ],
      "execution_count": 1
    },
    {
      "id": "ff68fb48-5f53-4e4b-97a5-0b0c304ef359",
      "cell_type": "code",
      "source": "# Convertir minutos en horas\nminutos = 150\nhoras = minutos / 60\nprint(minutos, \"minutos equivalen a\", horas, \"horas\")\n",
      "metadata": {
        "trusted": true
      },
      "outputs": [
        {
          "name": "stdout",
          "output_type": "stream",
          "text": "150 minutos equivalen a 2.5 horas\n"
        }
      ],
      "execution_count": 2
    },
    {
      "id": "6e3d9017-0f2a-4b47-bec0-74c051367cc8",
      "cell_type": "code",
      "source": "# Objetivos del proyecto\nobjetivos = [\n    \"Identificar herramientas de Ciencia de Datos\",\n    \"Practicar operaciones básicas en Python\",\n    \"Organizar información en un cuaderno Jupyter\"\n]\nfor objetivo in objetivos:\n    print(\"-\", objetivo)\n",
      "metadata": {
        "trusted": true
      },
      "outputs": [
        {
          "name": "stdout",
          "output_type": "stream",
          "text": "- Identificar herramientas de Ciencia de Datos\n- Practicar operaciones básicas en Python\n- Organizar información en un cuaderno Jupyter\n"
        }
      ],
      "execution_count": 3
    },
    {
      "id": "b689e828-57fe-4a28-a91b-73920eb6993e",
      "cell_type": "raw",
      "source": "**Autor:** Maikol Garcia Zavaleta",
      "metadata": {}
    },
    {
      "id": "e07c6c4b-54b4-43b7-a610-a919d3667cbe",
      "cell_type": "markdown",
      "source": "**Autor:** Maikol Garcia Zavaleta\n",
      "metadata": {}
    },
    {
      "id": "3ed56946-21fd-4c9c-9a22-2eac83878180",
      "cell_type": "raw",
      "source": "## Enlace al repositorio en GitHub",
      "metadata": {}
    }
  ]
}